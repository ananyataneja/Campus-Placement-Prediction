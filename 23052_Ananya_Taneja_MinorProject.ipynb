{
  "nbformat": 4,
  "nbformat_minor": 0,
  "metadata": {
    "colab": {
      "provenance": [],
      "collapsed_sections": [
        "IlOudCduy_-d",
        "KBkcqatgytsb"
      ],
      "authorship_tag": "ABX9TyOUhTBk5DURJoiwZL8kJLGf",
      "include_colab_link": true
    },
    "kernelspec": {
      "name": "python3",
      "display_name": "Python 3"
    },
    "language_info": {
      "name": "python"
    }
  },
  "cells": [
    {
      "cell_type": "markdown",
      "metadata": {
        "id": "view-in-github",
        "colab_type": "text"
      },
      "source": [
        "<a href=\"https://colab.research.google.com/github/ananyataneja/Campus-Placement-Prediction/blob/main/23052_Ananya_Taneja_MinorProject.ipynb\" target=\"_parent\"><img src=\"https://colab.research.google.com/assets/colab-badge.svg\" alt=\"Open In Colab\"/></a>"
      ]
    },
    {
      "cell_type": "markdown",
      "source": [
        "#TASK-1"
      ],
      "metadata": {
        "id": "Tz-S7uwqYvQ8"
      }
    },
    {
      "cell_type": "markdown",
      "source": [
        "##Importing Libraries"
      ],
      "metadata": {
        "id": "hnIKj1aG6aSS"
      }
    },
    {
      "cell_type": "code",
      "source": [
        "import pandas as pd\n",
        "import numpy as np\n",
        "import matplotlib.pyplot as plt\n",
        "import seaborn as sns\n",
        "import warnings\n",
        "warnings.filterwarnings('ignore')"
      ],
      "metadata": {
        "id": "EHWt2-L_6aAr"
      },
      "execution_count": null,
      "outputs": []
    },
    {
      "cell_type": "markdown",
      "source": [
        "##Analyzing the data"
      ],
      "metadata": {
        "id": "hesYgTpH-6ik"
      }
    },
    {
      "cell_type": "code",
      "source": [
        "data = pd.read_csv('/Placement_Data_Full_Class.csv') #read csv values"
      ],
      "metadata": {
        "id": "Od5INJL46WH6",
        "outputId": "349de530-e596-4949-b448-72b41936ea8f",
        "colab": {
          "base_uri": "https://localhost:8080/",
          "height": 336
        }
      },
      "execution_count": null,
      "outputs": [
        {
          "output_type": "error",
          "ename": "FileNotFoundError",
          "evalue": "ignored",
          "traceback": [
            "\u001b[0;31m---------------------------------------------------------------------------\u001b[0m",
            "\u001b[0;31mFileNotFoundError\u001b[0m                         Traceback (most recent call last)",
            "\u001b[0;32m<ipython-input-2-5b8c060dc0e6>\u001b[0m in \u001b[0;36m<cell line: 1>\u001b[0;34m()\u001b[0m\n\u001b[0;32m----> 1\u001b[0;31m \u001b[0mdata\u001b[0m \u001b[0;34m=\u001b[0m \u001b[0mpd\u001b[0m\u001b[0;34m.\u001b[0m\u001b[0mread_csv\u001b[0m\u001b[0;34m(\u001b[0m\u001b[0;34m'/Placement_Data_Full_Class.csv'\u001b[0m\u001b[0;34m)\u001b[0m \u001b[0;31m#read csv values\u001b[0m\u001b[0;34m\u001b[0m\u001b[0;34m\u001b[0m\u001b[0m\n\u001b[0m",
            "\u001b[0;32m/usr/local/lib/python3.10/dist-packages/pandas/util/_decorators.py\u001b[0m in \u001b[0;36mwrapper\u001b[0;34m(*args, **kwargs)\u001b[0m\n\u001b[1;32m    209\u001b[0m                 \u001b[0;32melse\u001b[0m\u001b[0;34m:\u001b[0m\u001b[0;34m\u001b[0m\u001b[0;34m\u001b[0m\u001b[0m\n\u001b[1;32m    210\u001b[0m                     \u001b[0mkwargs\u001b[0m\u001b[0;34m[\u001b[0m\u001b[0mnew_arg_name\u001b[0m\u001b[0;34m]\u001b[0m \u001b[0;34m=\u001b[0m \u001b[0mnew_arg_value\u001b[0m\u001b[0;34m\u001b[0m\u001b[0;34m\u001b[0m\u001b[0m\n\u001b[0;32m--> 211\u001b[0;31m             \u001b[0;32mreturn\u001b[0m \u001b[0mfunc\u001b[0m\u001b[0;34m(\u001b[0m\u001b[0;34m*\u001b[0m\u001b[0margs\u001b[0m\u001b[0;34m,\u001b[0m \u001b[0;34m**\u001b[0m\u001b[0mkwargs\u001b[0m\u001b[0;34m)\u001b[0m\u001b[0;34m\u001b[0m\u001b[0;34m\u001b[0m\u001b[0m\n\u001b[0m\u001b[1;32m    212\u001b[0m \u001b[0;34m\u001b[0m\u001b[0m\n\u001b[1;32m    213\u001b[0m         \u001b[0;32mreturn\u001b[0m \u001b[0mcast\u001b[0m\u001b[0;34m(\u001b[0m\u001b[0mF\u001b[0m\u001b[0;34m,\u001b[0m \u001b[0mwrapper\u001b[0m\u001b[0;34m)\u001b[0m\u001b[0;34m\u001b[0m\u001b[0;34m\u001b[0m\u001b[0m\n",
            "\u001b[0;32m/usr/local/lib/python3.10/dist-packages/pandas/util/_decorators.py\u001b[0m in \u001b[0;36mwrapper\u001b[0;34m(*args, **kwargs)\u001b[0m\n\u001b[1;32m    329\u001b[0m                     \u001b[0mstacklevel\u001b[0m\u001b[0;34m=\u001b[0m\u001b[0mfind_stack_level\u001b[0m\u001b[0;34m(\u001b[0m\u001b[0;34m)\u001b[0m\u001b[0;34m,\u001b[0m\u001b[0;34m\u001b[0m\u001b[0;34m\u001b[0m\u001b[0m\n\u001b[1;32m    330\u001b[0m                 )\n\u001b[0;32m--> 331\u001b[0;31m             \u001b[0;32mreturn\u001b[0m \u001b[0mfunc\u001b[0m\u001b[0;34m(\u001b[0m\u001b[0;34m*\u001b[0m\u001b[0margs\u001b[0m\u001b[0;34m,\u001b[0m \u001b[0;34m**\u001b[0m\u001b[0mkwargs\u001b[0m\u001b[0;34m)\u001b[0m\u001b[0;34m\u001b[0m\u001b[0;34m\u001b[0m\u001b[0m\n\u001b[0m\u001b[1;32m    332\u001b[0m \u001b[0;34m\u001b[0m\u001b[0m\n\u001b[1;32m    333\u001b[0m         \u001b[0;31m# error: \"Callable[[VarArg(Any), KwArg(Any)], Any]\" has no\u001b[0m\u001b[0;34m\u001b[0m\u001b[0;34m\u001b[0m\u001b[0m\n",
            "\u001b[0;32m/usr/local/lib/python3.10/dist-packages/pandas/io/parsers/readers.py\u001b[0m in \u001b[0;36mread_csv\u001b[0;34m(filepath_or_buffer, sep, delimiter, header, names, index_col, usecols, squeeze, prefix, mangle_dupe_cols, dtype, engine, converters, true_values, false_values, skipinitialspace, skiprows, skipfooter, nrows, na_values, keep_default_na, na_filter, verbose, skip_blank_lines, parse_dates, infer_datetime_format, keep_date_col, date_parser, dayfirst, cache_dates, iterator, chunksize, compression, thousands, decimal, lineterminator, quotechar, quoting, doublequote, escapechar, comment, encoding, encoding_errors, dialect, error_bad_lines, warn_bad_lines, on_bad_lines, delim_whitespace, low_memory, memory_map, float_precision, storage_options)\u001b[0m\n\u001b[1;32m    948\u001b[0m     \u001b[0mkwds\u001b[0m\u001b[0;34m.\u001b[0m\u001b[0mupdate\u001b[0m\u001b[0;34m(\u001b[0m\u001b[0mkwds_defaults\u001b[0m\u001b[0;34m)\u001b[0m\u001b[0;34m\u001b[0m\u001b[0;34m\u001b[0m\u001b[0m\n\u001b[1;32m    949\u001b[0m \u001b[0;34m\u001b[0m\u001b[0m\n\u001b[0;32m--> 950\u001b[0;31m     \u001b[0;32mreturn\u001b[0m \u001b[0m_read\u001b[0m\u001b[0;34m(\u001b[0m\u001b[0mfilepath_or_buffer\u001b[0m\u001b[0;34m,\u001b[0m \u001b[0mkwds\u001b[0m\u001b[0;34m)\u001b[0m\u001b[0;34m\u001b[0m\u001b[0;34m\u001b[0m\u001b[0m\n\u001b[0m\u001b[1;32m    951\u001b[0m \u001b[0;34m\u001b[0m\u001b[0m\n\u001b[1;32m    952\u001b[0m \u001b[0;34m\u001b[0m\u001b[0m\n",
            "\u001b[0;32m/usr/local/lib/python3.10/dist-packages/pandas/io/parsers/readers.py\u001b[0m in \u001b[0;36m_read\u001b[0;34m(filepath_or_buffer, kwds)\u001b[0m\n\u001b[1;32m    603\u001b[0m \u001b[0;34m\u001b[0m\u001b[0m\n\u001b[1;32m    604\u001b[0m     \u001b[0;31m# Create the parser.\u001b[0m\u001b[0;34m\u001b[0m\u001b[0;34m\u001b[0m\u001b[0m\n\u001b[0;32m--> 605\u001b[0;31m     \u001b[0mparser\u001b[0m \u001b[0;34m=\u001b[0m \u001b[0mTextFileReader\u001b[0m\u001b[0;34m(\u001b[0m\u001b[0mfilepath_or_buffer\u001b[0m\u001b[0;34m,\u001b[0m \u001b[0;34m**\u001b[0m\u001b[0mkwds\u001b[0m\u001b[0;34m)\u001b[0m\u001b[0;34m\u001b[0m\u001b[0;34m\u001b[0m\u001b[0m\n\u001b[0m\u001b[1;32m    606\u001b[0m \u001b[0;34m\u001b[0m\u001b[0m\n\u001b[1;32m    607\u001b[0m     \u001b[0;32mif\u001b[0m \u001b[0mchunksize\u001b[0m \u001b[0;32mor\u001b[0m \u001b[0miterator\u001b[0m\u001b[0;34m:\u001b[0m\u001b[0;34m\u001b[0m\u001b[0;34m\u001b[0m\u001b[0m\n",
            "\u001b[0;32m/usr/local/lib/python3.10/dist-packages/pandas/io/parsers/readers.py\u001b[0m in \u001b[0;36m__init__\u001b[0;34m(self, f, engine, **kwds)\u001b[0m\n\u001b[1;32m   1440\u001b[0m \u001b[0;34m\u001b[0m\u001b[0m\n\u001b[1;32m   1441\u001b[0m         \u001b[0mself\u001b[0m\u001b[0;34m.\u001b[0m\u001b[0mhandles\u001b[0m\u001b[0;34m:\u001b[0m \u001b[0mIOHandles\u001b[0m \u001b[0;34m|\u001b[0m \u001b[0;32mNone\u001b[0m \u001b[0;34m=\u001b[0m \u001b[0;32mNone\u001b[0m\u001b[0;34m\u001b[0m\u001b[0;34m\u001b[0m\u001b[0m\n\u001b[0;32m-> 1442\u001b[0;31m         \u001b[0mself\u001b[0m\u001b[0;34m.\u001b[0m\u001b[0m_engine\u001b[0m \u001b[0;34m=\u001b[0m \u001b[0mself\u001b[0m\u001b[0;34m.\u001b[0m\u001b[0m_make_engine\u001b[0m\u001b[0;34m(\u001b[0m\u001b[0mf\u001b[0m\u001b[0;34m,\u001b[0m \u001b[0mself\u001b[0m\u001b[0;34m.\u001b[0m\u001b[0mengine\u001b[0m\u001b[0;34m)\u001b[0m\u001b[0;34m\u001b[0m\u001b[0;34m\u001b[0m\u001b[0m\n\u001b[0m\u001b[1;32m   1443\u001b[0m \u001b[0;34m\u001b[0m\u001b[0m\n\u001b[1;32m   1444\u001b[0m     \u001b[0;32mdef\u001b[0m \u001b[0mclose\u001b[0m\u001b[0;34m(\u001b[0m\u001b[0mself\u001b[0m\u001b[0;34m)\u001b[0m \u001b[0;34m->\u001b[0m \u001b[0;32mNone\u001b[0m\u001b[0;34m:\u001b[0m\u001b[0;34m\u001b[0m\u001b[0;34m\u001b[0m\u001b[0m\n",
            "\u001b[0;32m/usr/local/lib/python3.10/dist-packages/pandas/io/parsers/readers.py\u001b[0m in \u001b[0;36m_make_engine\u001b[0;34m(self, f, engine)\u001b[0m\n\u001b[1;32m   1733\u001b[0m                 \u001b[0;32mif\u001b[0m \u001b[0;34m\"b\"\u001b[0m \u001b[0;32mnot\u001b[0m \u001b[0;32min\u001b[0m \u001b[0mmode\u001b[0m\u001b[0;34m:\u001b[0m\u001b[0;34m\u001b[0m\u001b[0;34m\u001b[0m\u001b[0m\n\u001b[1;32m   1734\u001b[0m                     \u001b[0mmode\u001b[0m \u001b[0;34m+=\u001b[0m \u001b[0;34m\"b\"\u001b[0m\u001b[0;34m\u001b[0m\u001b[0;34m\u001b[0m\u001b[0m\n\u001b[0;32m-> 1735\u001b[0;31m             self.handles = get_handle(\n\u001b[0m\u001b[1;32m   1736\u001b[0m                 \u001b[0mf\u001b[0m\u001b[0;34m,\u001b[0m\u001b[0;34m\u001b[0m\u001b[0;34m\u001b[0m\u001b[0m\n\u001b[1;32m   1737\u001b[0m                 \u001b[0mmode\u001b[0m\u001b[0;34m,\u001b[0m\u001b[0;34m\u001b[0m\u001b[0;34m\u001b[0m\u001b[0m\n",
            "\u001b[0;32m/usr/local/lib/python3.10/dist-packages/pandas/io/common.py\u001b[0m in \u001b[0;36mget_handle\u001b[0;34m(path_or_buf, mode, encoding, compression, memory_map, is_text, errors, storage_options)\u001b[0m\n\u001b[1;32m    854\u001b[0m         \u001b[0;32mif\u001b[0m \u001b[0mioargs\u001b[0m\u001b[0;34m.\u001b[0m\u001b[0mencoding\u001b[0m \u001b[0;32mand\u001b[0m \u001b[0;34m\"b\"\u001b[0m \u001b[0;32mnot\u001b[0m \u001b[0;32min\u001b[0m \u001b[0mioargs\u001b[0m\u001b[0;34m.\u001b[0m\u001b[0mmode\u001b[0m\u001b[0;34m:\u001b[0m\u001b[0;34m\u001b[0m\u001b[0;34m\u001b[0m\u001b[0m\n\u001b[1;32m    855\u001b[0m             \u001b[0;31m# Encoding\u001b[0m\u001b[0;34m\u001b[0m\u001b[0;34m\u001b[0m\u001b[0m\n\u001b[0;32m--> 856\u001b[0;31m             handle = open(\n\u001b[0m\u001b[1;32m    857\u001b[0m                 \u001b[0mhandle\u001b[0m\u001b[0;34m,\u001b[0m\u001b[0;34m\u001b[0m\u001b[0;34m\u001b[0m\u001b[0m\n\u001b[1;32m    858\u001b[0m                 \u001b[0mioargs\u001b[0m\u001b[0;34m.\u001b[0m\u001b[0mmode\u001b[0m\u001b[0;34m,\u001b[0m\u001b[0;34m\u001b[0m\u001b[0;34m\u001b[0m\u001b[0m\n",
            "\u001b[0;31mFileNotFoundError\u001b[0m: [Errno 2] No such file or directory: '/Placement_Data_Full_Class.csv'"
          ]
        }
      ]
    },
    {
      "cell_type": "code",
      "source": [
        "data.shape #dimensions"
      ],
      "metadata": {
        "id": "r002pPBo6WFi"
      },
      "execution_count": null,
      "outputs": []
    },
    {
      "cell_type": "code",
      "source": [
        "data.columns"
      ],
      "metadata": {
        "id": "v9NESJpH6WDM"
      },
      "execution_count": null,
      "outputs": []
    },
    {
      "cell_type": "code",
      "source": [
        "data.head(5) #first five rows"
      ],
      "metadata": {
        "id": "loenf-VH6WA3"
      },
      "execution_count": null,
      "outputs": []
    },
    {
      "cell_type": "code",
      "source": [
        "data.tail()  #last 5 rows"
      ],
      "metadata": {
        "id": "b9JzmHiPftrk"
      },
      "execution_count": null,
      "outputs": []
    },
    {
      "cell_type": "markdown",
      "source": [
        "##Q.1\n",
        "Are there any missing values and duplicate records in the dataset? How will you identify and handle them? Can you identify any other inconsistencies or errors in the data that require cleaning or validation?"
      ],
      "metadata": {
        "id": "PBPuGueY6K4i"
      }
    },
    {
      "cell_type": "markdown",
      "source": [
        "###Identifying missing and duplicate records"
      ],
      "metadata": {
        "id": "3nT1le_wy1Wk"
      }
    },
    {
      "cell_type": "code",
      "source": [
        "data.isnull().sum() #identifying missing values in each column"
      ],
      "metadata": {
        "id": "34UybV2l6V3n"
      },
      "execution_count": null,
      "outputs": []
    },
    {
      "cell_type": "markdown",
      "source": [
        "There are 67 NAN or missing values in salary column"
      ],
      "metadata": {
        "id": "P01MSfi2HYoT"
      }
    },
    {
      "cell_type": "code",
      "source": [
        "data.duplicated() #identifying duplicated records"
      ],
      "metadata": {
        "id": "Kmp75E5ND7Qb"
      },
      "execution_count": null,
      "outputs": []
    },
    {
      "cell_type": "code",
      "source": [
        "duplicate = data[data.duplicated()] #storing duplicate records\n",
        "\n",
        "print(duplicate)"
      ],
      "metadata": {
        "id": "D7_HA6cyEtlA"
      },
      "execution_count": null,
      "outputs": []
    },
    {
      "cell_type": "markdown",
      "source": [
        "Since the dataframe is empty , hence there are no duplicate records"
      ],
      "metadata": {
        "id": "T6kbMI2ZG38L"
      }
    },
    {
      "cell_type": "markdown",
      "source": [
        "###Handling missing values"
      ],
      "metadata": {
        "id": "IlOudCduy_-d"
      }
    },
    {
      "cell_type": "markdown",
      "source": [
        "To handle the NAN / missing values , following methods can be used:\n",
        "\n",
        "\n",
        "*   Data Deletion\n",
        "\n",
        "*   Data Estimation\n",
        "\n",
        "Data Deletion can be done either by deleting the 67 rows or by deleting the 'Salary' column. In both ways , data deletion will result in data loss and hence is not considered to be an efficient method.\n",
        "\n",
        "Hence we can handle the missing values by using Data Estimation, where we replace the NAN values by the mean of all other salary values."
      ],
      "metadata": {
        "id": "nY0RdYxcJJvW"
      }
    },
    {
      "cell_type": "code",
      "source": [
        "data['salary'].mean() #mean of values in salary column"
      ],
      "metadata": {
        "id": "m6F3lBvdHmAh"
      },
      "execution_count": null,
      "outputs": []
    },
    {
      "cell_type": "markdown",
      "source": [
        "\n",
        "All the missing salary values are for students who didn't get placed and hence replacing their salary by mean salary of placed student will result in data inaccuracy.\n",
        "Since the students are not placed hence the salary should be replaced by 0 instead."
      ],
      "metadata": {
        "id": "2gLyCdNWGRv9"
      }
    },
    {
      "cell_type": "code",
      "source": [
        "data=data.fillna(0) #replace nan with 0"
      ],
      "metadata": {
        "id": "OOLWEixnHl-9"
      },
      "execution_count": null,
      "outputs": []
    },
    {
      "cell_type": "code",
      "source": [
        "data.isna().sum() #no more nans"
      ],
      "metadata": {
        "id": "QS5gsFhHHl8X"
      },
      "execution_count": null,
      "outputs": []
    },
    {
      "cell_type": "markdown",
      "source": [
        "###Errors and inconsistencies"
      ],
      "metadata": {
        "id": "KBkcqatgytsb"
      }
    },
    {
      "cell_type": "markdown",
      "source": [
        "To identify any other inconsistencies or errors in the data we can look for unique values in each column to see any inconsistencies and outliers"
      ],
      "metadata": {
        "id": "FD9JYteAXDB3"
      }
    },
    {
      "cell_type": "code",
      "source": [
        "#finding unique values in non numeric colums\n",
        "for column in data.columns:\n",
        "    if data[column].dtype == 'object':\n",
        "        print(data[column].unique())\n",
        "        print()"
      ],
      "metadata": {
        "id": "WdDxO69BHl5w"
      },
      "execution_count": null,
      "outputs": []
    },
    {
      "cell_type": "markdown",
      "source": [
        "On examining unique values in categorical columns, there were no unexpected values or typos. Hence there aren't any errors."
      ],
      "metadata": {
        "id": "kGrDX9lwfPoG"
      }
    },
    {
      "cell_type": "code",
      "source": [
        "data.dtypes"
      ],
      "metadata": {
        "id": "pgVqtVu6e61m"
      },
      "execution_count": null,
      "outputs": []
    },
    {
      "cell_type": "markdown",
      "source": [
        "On analysing the datatypes of all columns, it is found that all colums are in correct format and hence do not need any validation."
      ],
      "metadata": {
        "id": "uYMpGbp8dj8a"
      }
    },
    {
      "cell_type": "markdown",
      "source": [
        "##Q.2\n",
        "What is the distribution of placement status based on different categorical variables (e.g., gender, specialisation)? Are there any significant differences or patterns in the placement rates among different groups? Can we identify any correlation between specific independent variables (such as educational background, work experience, etc.) and the placement status?"
      ],
      "metadata": {
        "id": "qrczAhkDeNuW"
      }
    },
    {
      "cell_type": "code",
      "source": [
        "data['status'].unique()"
      ],
      "metadata": {
        "id": "2DVWsVHPHl3K"
      },
      "execution_count": null,
      "outputs": []
    },
    {
      "cell_type": "code",
      "source": [
        "data['status'].value_counts() #number of students placed and not placed"
      ],
      "metadata": {
        "id": "_b1RlALOHlnC"
      },
      "execution_count": null,
      "outputs": []
    },
    {
      "cell_type": "code",
      "source": [
        "data['status'].value_counts(normalize=True) #probability of students placed and not placed"
      ],
      "metadata": {
        "id": "-QO18WUVg_Y9"
      },
      "execution_count": null,
      "outputs": []
    },
    {
      "cell_type": "markdown",
      "source": [
        "Around 69% students are placed whereas 31% aren't"
      ],
      "metadata": {
        "id": "UDxHLGxTlp2G"
      }
    },
    {
      "cell_type": "code",
      "source": [
        "data[data['status']=='Placed'] #details of people who got placed"
      ],
      "metadata": {
        "id": "1yCPtTTRhK8S"
      },
      "execution_count": null,
      "outputs": []
    },
    {
      "cell_type": "code",
      "source": [
        "placed_data=data[data['status']=='Placed'] #storing details of not placed students"
      ],
      "metadata": {
        "id": "8vAlW57ApVWz"
      },
      "execution_count": null,
      "outputs": []
    },
    {
      "cell_type": "code",
      "source": [
        "data[data['status']=='Not Placed']  #details of people who didn't get placed"
      ],
      "metadata": {
        "id": "cLs0kkRcm4RZ"
      },
      "execution_count": null,
      "outputs": []
    },
    {
      "cell_type": "code",
      "source": [
        "not_placed_data=data[data['status']=='Not Placed'] #storing details of not placed students"
      ],
      "metadata": {
        "id": "u-fBE93Gm4PE"
      },
      "execution_count": null,
      "outputs": []
    },
    {
      "cell_type": "markdown",
      "source": [
        "###On basis of gender"
      ],
      "metadata": {
        "id": "jRsq4SzEl_Um"
      }
    },
    {
      "cell_type": "code",
      "source": [
        "placed_data['gender'].value_counts(normalize=True)"
      ],
      "metadata": {
        "id": "Pmm4U-mBiQym"
      },
      "execution_count": null,
      "outputs": []
    },
    {
      "cell_type": "markdown",
      "source": [
        "67% of placed students are males and 32% are females"
      ],
      "metadata": {
        "id": "vxEaCyJbquDb"
      }
    },
    {
      "cell_type": "code",
      "source": [
        "not_placed_data['gender'].value_counts(normalize=True)"
      ],
      "metadata": {
        "id": "hfowheS9nRpI"
      },
      "execution_count": null,
      "outputs": []
    },
    {
      "cell_type": "markdown",
      "source": [
        "58% of placed students are males and 41% are females"
      ],
      "metadata": {
        "id": "lZDWc2eWq4LV"
      }
    },
    {
      "cell_type": "code",
      "source": [
        "male_data=data[data['gender']=='M'] #storing details of male students"
      ],
      "metadata": {
        "id": "6xAzCkmZpiS8"
      },
      "execution_count": null,
      "outputs": []
    },
    {
      "cell_type": "code",
      "source": [
        "female_data=data[data['gender']=='F']#storing details of male students"
      ],
      "metadata": {
        "id": "fVo-cVavpiQn"
      },
      "execution_count": null,
      "outputs": []
    },
    {
      "cell_type": "code",
      "source": [
        "male_data['status'].value_counts(normalize=True)"
      ],
      "metadata": {
        "id": "ACacCkSVpiNu"
      },
      "execution_count": null,
      "outputs": []
    },
    {
      "cell_type": "markdown",
      "source": [
        "This implies that 71% of male students got placed"
      ],
      "metadata": {
        "id": "-La2ARNDqGoO"
      }
    },
    {
      "cell_type": "code",
      "source": [
        "female_data['status'].value_counts(normalize=True)"
      ],
      "metadata": {
        "id": "vHpzn3V9p_dG"
      },
      "execution_count": null,
      "outputs": []
    },
    {
      "cell_type": "markdown",
      "source": [
        "This implies that 63% of female students got placed"
      ],
      "metadata": {
        "id": "MGI7DGYSqVKu"
      }
    },
    {
      "cell_type": "markdown",
      "source": [
        "Hence male students are more likely to get placed"
      ],
      "metadata": {
        "id": "BuX3fbbFqiSk"
      }
    },
    {
      "cell_type": "markdown",
      "source": [
        "###On basis of specialisation"
      ],
      "metadata": {
        "id": "PZE3JBQxrDtH"
      }
    },
    {
      "cell_type": "code",
      "source": [
        "placed_data['specialisation'].value_counts(normalize=True)"
      ],
      "metadata": {
        "id": "GforLMjdiQjO"
      },
      "execution_count": null,
      "outputs": []
    },
    {
      "cell_type": "markdown",
      "source": [
        "64% people who got placed specialised from Mkt&Fin while 35% from Mkt&HR"
      ],
      "metadata": {
        "id": "j88VDoDpudh2"
      }
    },
    {
      "cell_type": "code",
      "source": [
        "fin_data=data[data['specialisation']=='Mkt&Fin'] #storing details of students specialised in Mkt&Fin"
      ],
      "metadata": {
        "id": "vPpFTjcDr7d7"
      },
      "execution_count": null,
      "outputs": []
    },
    {
      "cell_type": "code",
      "source": [
        "HR_data=data[data['specialisation']=='Mkt&HR'] #storing details of students specialised in Mkt&HR"
      ],
      "metadata": {
        "id": "IVq9koDVr7bl"
      },
      "execution_count": null,
      "outputs": []
    },
    {
      "cell_type": "code",
      "source": [
        "fin_data['status'].value_counts(normalize=True)"
      ],
      "metadata": {
        "id": "jbtYa70lr7Lq"
      },
      "execution_count": null,
      "outputs": []
    },
    {
      "cell_type": "markdown",
      "source": [
        "Hence 79% students specialised in this course got placed while 20% didn't"
      ],
      "metadata": {
        "id": "WyXewF0dtYyA"
      }
    },
    {
      "cell_type": "code",
      "source": [
        "HR_data['status'].value_counts(normalize=True)"
      ],
      "metadata": {
        "id": "OMvBEP0-r7Jl"
      },
      "execution_count": null,
      "outputs": []
    },
    {
      "cell_type": "markdown",
      "source": [
        "Hence 55% students specialised in this course got placed while 44% didn't"
      ],
      "metadata": {
        "id": "Fgfv7ZHEtoTV"
      }
    },
    {
      "cell_type": "markdown",
      "source": [
        "Therefore, students who specialised in Mkt&Fin are more likely to get placed"
      ],
      "metadata": {
        "id": "b0hJg6h-traj"
      }
    },
    {
      "cell_type": "markdown",
      "source": [
        "###On basis of work experience"
      ],
      "metadata": {
        "id": "O7eQzVTEt3VD"
      }
    },
    {
      "cell_type": "code",
      "source": [
        "placed_data['workex'].value_counts(normalize=True)"
      ],
      "metadata": {
        "id": "Vph-ED0Fv_as"
      },
      "execution_count": null,
      "outputs": []
    },
    {
      "cell_type": "markdown",
      "source": [
        "56%of placed students were unexperienced"
      ],
      "metadata": {
        "id": "pqD7eX5Sw7SO"
      }
    },
    {
      "cell_type": "code",
      "source": [
        "exp_data=data[data['workex']=='Yes'] #storing details of students having some work experience"
      ],
      "metadata": {
        "id": "EFDh_eXlv7Px"
      },
      "execution_count": null,
      "outputs": []
    },
    {
      "cell_type": "code",
      "source": [
        "no_exp_data=data[data['workex']=='No'] #storing details of students having no work experience"
      ],
      "metadata": {
        "id": "PaGUTvvQv7Nr"
      },
      "execution_count": null,
      "outputs": []
    },
    {
      "cell_type": "code",
      "source": [
        "exp_data['status'].value_counts(normalize=True)"
      ],
      "metadata": {
        "id": "e6ZlnexLv679"
      },
      "execution_count": null,
      "outputs": []
    },
    {
      "cell_type": "markdown",
      "source": [
        "86% of experienced students got placed"
      ],
      "metadata": {
        "id": "WeQJKI6Lwds-"
      }
    },
    {
      "cell_type": "code",
      "source": [
        "no_exp_data['status'].value_counts(normalize=True)"
      ],
      "metadata": {
        "id": "zm9nX_RSv65m"
      },
      "execution_count": null,
      "outputs": []
    },
    {
      "cell_type": "markdown",
      "source": [
        "59% of unexperienced students got placed"
      ],
      "metadata": {
        "id": "IH374Vj_weQ2"
      }
    },
    {
      "cell_type": "markdown",
      "source": [
        "Hence experieced students are more likely to get placed"
      ],
      "metadata": {
        "id": "ker560i4wxSY"
      }
    },
    {
      "cell_type": "markdown",
      "source": [
        "### On basis of higher education stream"
      ],
      "metadata": {
        "id": "OTK1TTQnt_Uh"
      }
    },
    {
      "cell_type": "code",
      "source": [
        "placed_data['hsc_s'].value_counts(normalize=True)"
      ],
      "metadata": {
        "id": "l4SoiEqhj77r"
      },
      "execution_count": null,
      "outputs": []
    },
    {
      "cell_type": "markdown",
      "source": [
        "53% of placed students were from commerce 42% from science and 4% from arts"
      ],
      "metadata": {
        "id": "3fU3ZkE5xGOP"
      }
    },
    {
      "cell_type": "code",
      "source": [
        "com_data=data[data['hsc_s']=='Commerce'] #storing details of students having some work experience"
      ],
      "metadata": {
        "id": "ULkU4ixMj72_"
      },
      "execution_count": null,
      "outputs": []
    },
    {
      "cell_type": "code",
      "source": [
        "sci_data=data[data['hsc_s']=='Science'] #storing details of students having some work experience"
      ],
      "metadata": {
        "id": "wpUNq0V-j70I"
      },
      "execution_count": null,
      "outputs": []
    },
    {
      "cell_type": "code",
      "source": [
        "arts_data=data[data['hsc_s']=='Arts'] #storing details of students having some work experience"
      ],
      "metadata": {
        "id": "qz5tXb9qxDSd"
      },
      "execution_count": null,
      "outputs": []
    },
    {
      "cell_type": "code",
      "source": [
        "com_data['status'].value_counts(normalize=True)"
      ],
      "metadata": {
        "id": "-Ai9hKUIx38B"
      },
      "execution_count": null,
      "outputs": []
    },
    {
      "cell_type": "markdown",
      "source": [
        "69.9% of all commerce students got placed"
      ],
      "metadata": {
        "id": "ezhB4nmYx_CK"
      }
    },
    {
      "cell_type": "code",
      "source": [
        "sci_data['status'].value_counts(normalize=True)"
      ],
      "metadata": {
        "id": "lA5OVpbYx357"
      },
      "execution_count": null,
      "outputs": []
    },
    {
      "cell_type": "markdown",
      "source": [
        "69.2% of all science students got placed"
      ],
      "metadata": {
        "id": "iJuk7lm-x_rO"
      }
    },
    {
      "cell_type": "code",
      "source": [
        "arts_data['status'].value_counts(normalize=True)"
      ],
      "metadata": {
        "id": "5xSGPW84x33G"
      },
      "execution_count": null,
      "outputs": []
    },
    {
      "cell_type": "markdown",
      "source": [
        "54% of all arts students got placed"
      ],
      "metadata": {
        "id": "Vg3nBgkeyAl8"
      }
    },
    {
      "cell_type": "markdown",
      "source": [
        "Hence commerce students are more likely to get placed followed by science and then arts."
      ],
      "metadata": {
        "id": "8REOA7AGydSJ"
      }
    },
    {
      "cell_type": "markdown",
      "source": [
        "##Q.3\n",
        "How does the distribution of secondary and higher secondary school percentages vary among the placed and not-placed students? Can you identify any significant differences or patterns?"
      ],
      "metadata": {
        "id": "IFXQgOoTzNIE"
      }
    },
    {
      "cell_type": "markdown",
      "source": [
        "###According to secondary school percentage"
      ],
      "metadata": {
        "id": "u7FqNG1T1Iq-"
      }
    },
    {
      "cell_type": "markdown",
      "source": [
        "####Placed students"
      ],
      "metadata": {
        "id": "WrvpHibi2QKw"
      }
    },
    {
      "cell_type": "code",
      "source": [
        "placed_data['ssc_p'].value_counts #values of percentage of all placed students"
      ],
      "metadata": {
        "id": "OdZKEOBTzU3V"
      },
      "execution_count": null,
      "outputs": []
    },
    {
      "cell_type": "code",
      "source": [
        "placed_data['ssc_p'].min()"
      ],
      "metadata": {
        "id": "f-na4WLSzVfT"
      },
      "execution_count": null,
      "outputs": []
    },
    {
      "cell_type": "code",
      "source": [
        "placed_data['ssc_p'].max()"
      ],
      "metadata": {
        "id": "f4N4gQqrzVca"
      },
      "execution_count": null,
      "outputs": []
    },
    {
      "cell_type": "markdown",
      "source": [
        "Thus, the mimimum percentage of placed students is 49% while the maximum is 89.4%"
      ],
      "metadata": {
        "id": "kxRrqood1uiK"
      }
    },
    {
      "cell_type": "code",
      "source": [
        "placed_data['ssc_p'].mean()"
      ],
      "metadata": {
        "id": "B8mYQd1gzVkf"
      },
      "execution_count": null,
      "outputs": []
    },
    {
      "cell_type": "markdown",
      "source": [
        "Thus the average percentage of all placed students is 71.72%"
      ],
      "metadata": {
        "id": "WqAVLTnZ1vGW"
      }
    },
    {
      "cell_type": "code",
      "source": [
        "placed_data['ssc_p'].median()"
      ],
      "metadata": {
        "id": "gJ1i9-LkzVh5"
      },
      "execution_count": null,
      "outputs": []
    },
    {
      "cell_type": "markdown",
      "source": [
        "Thus, median of all placed percentages is 72.5%"
      ],
      "metadata": {
        "id": "w3-bAt4o1wRI"
      }
    },
    {
      "cell_type": "markdown",
      "source": [
        "####Not placed students"
      ],
      "metadata": {
        "id": "knulL6M72VVQ"
      }
    },
    {
      "cell_type": "code",
      "source": [
        "not_placed_data['ssc_p'].value_counts #values of percentage of all not placed students"
      ],
      "metadata": {
        "id": "mijVQSr42ZGI"
      },
      "execution_count": null,
      "outputs": []
    },
    {
      "cell_type": "code",
      "source": [
        "not_placed_data['ssc_p'].min()"
      ],
      "metadata": {
        "id": "_eKbZWbY2ZlF"
      },
      "execution_count": null,
      "outputs": []
    },
    {
      "cell_type": "code",
      "source": [
        "not_placed_data['ssc_p'].max()"
      ],
      "metadata": {
        "id": "89PugXpI2Zf4"
      },
      "execution_count": null,
      "outputs": []
    },
    {
      "cell_type": "markdown",
      "source": [
        "Thus, the mimimum percentage of not placed students is 40% while the maximum is 77.8%"
      ],
      "metadata": {
        "id": "TTzHgFsP2slj"
      }
    },
    {
      "cell_type": "code",
      "source": [
        "not_placed_data['ssc_p'].mean()"
      ],
      "metadata": {
        "id": "BDoDIyAx2Zcg"
      },
      "execution_count": null,
      "outputs": []
    },
    {
      "cell_type": "markdown",
      "source": [
        "Thus the average percentage of all non placed students is 57.54%"
      ],
      "metadata": {
        "id": "-grxKFka20Wa"
      }
    },
    {
      "cell_type": "code",
      "source": [
        "not_placed_data['ssc_p'].median()"
      ],
      "metadata": {
        "id": "upcB5mk82ZNp"
      },
      "execution_count": null,
      "outputs": []
    },
    {
      "cell_type": "markdown",
      "source": [
        "Thus, median of all placed percentages is 56.28%"
      ],
      "metadata": {
        "id": "UKAzj0iq21tH"
      }
    },
    {
      "cell_type": "markdown",
      "source": [
        "####Conclusion\n",
        "On comparing mean and median of secondary school percentages of placed and non placed students, it is found that students with higher percentages are more likely to get placements"
      ],
      "metadata": {
        "id": "Wx6KR_kz3eAD"
      }
    },
    {
      "cell_type": "markdown",
      "source": [
        "###According to higher secondary school percentage"
      ],
      "metadata": {
        "id": "oID0nP_W1Tav"
      }
    },
    {
      "cell_type": "markdown",
      "source": [
        "####Placed students"
      ],
      "metadata": {
        "id": "UGsAq-0g3xBe"
      }
    },
    {
      "cell_type": "code",
      "source": [
        "placed_data['hsc_p'].value_counts #values of percentage of all placed students"
      ],
      "metadata": {
        "id": "pnwgoDGH1Zqu"
      },
      "execution_count": null,
      "outputs": []
    },
    {
      "cell_type": "code",
      "source": [
        "placed_data['hsc_p'].min()"
      ],
      "metadata": {
        "id": "YC2mlzov1ZoF"
      },
      "execution_count": null,
      "outputs": []
    },
    {
      "cell_type": "code",
      "source": [
        "placed_data['hsc_p'].max()"
      ],
      "metadata": {
        "id": "2ymguPnj1Zkt"
      },
      "execution_count": null,
      "outputs": []
    },
    {
      "cell_type": "markdown",
      "source": [
        "Thus, the mimimum percentage of placed students is 50% while the maximum is 97.7%"
      ],
      "metadata": {
        "id": "VOLaBpMl4WEn"
      }
    },
    {
      "cell_type": "code",
      "source": [
        "placed_data['hsc_p'].mean()"
      ],
      "metadata": {
        "id": "GNtbtLuF1ZeT"
      },
      "execution_count": null,
      "outputs": []
    },
    {
      "cell_type": "markdown",
      "source": [
        "Thus the average percentage of all placed students is 69.9%"
      ],
      "metadata": {
        "id": "nq1DmNKp4Wgw"
      }
    },
    {
      "cell_type": "code",
      "source": [
        "placed_data['hsc_p'].median()"
      ],
      "metadata": {
        "id": "5pc7KZGG1Y3k"
      },
      "execution_count": null,
      "outputs": []
    },
    {
      "cell_type": "markdown",
      "source": [
        "Thus, median of all placed percentages is 68%"
      ],
      "metadata": {
        "id": "piHcldlK4XBT"
      }
    },
    {
      "cell_type": "markdown",
      "source": [
        "####Not placed students"
      ],
      "metadata": {
        "id": "YwCEKfgo31Uw"
      }
    },
    {
      "cell_type": "code",
      "source": [
        "not_placed_data['hsc_p'].value_counts #values of percentage of all not placed students"
      ],
      "metadata": {
        "id": "cpkMn9a-34pl"
      },
      "execution_count": null,
      "outputs": []
    },
    {
      "cell_type": "code",
      "source": [
        "not_placed_data['hsc_p'].min()"
      ],
      "metadata": {
        "id": "W_IWRZrz345H"
      },
      "execution_count": null,
      "outputs": []
    },
    {
      "cell_type": "code",
      "source": [
        "not_placed_data['hsc_p'].max()"
      ],
      "metadata": {
        "id": "H8xvZg4s34za"
      },
      "execution_count": null,
      "outputs": []
    },
    {
      "cell_type": "markdown",
      "source": [
        "Thus, the mimimum percentage of not placed students is 37% while the maximum is 82%"
      ],
      "metadata": {
        "id": "mLuzvqtU5Lbo"
      }
    },
    {
      "cell_type": "code",
      "source": [
        "not_placed_data['hsc_p'].mean()"
      ],
      "metadata": {
        "id": "61-Klf6A34vw"
      },
      "execution_count": null,
      "outputs": []
    },
    {
      "cell_type": "markdown",
      "source": [
        "Thus the average percentage of all non placed students is 58.39%"
      ],
      "metadata": {
        "id": "lqfeNmdf6ELL"
      }
    },
    {
      "cell_type": "code",
      "source": [
        "not_placed_data['hsc_p'].median()"
      ],
      "metadata": {
        "id": "d4sskMiU5HTm"
      },
      "execution_count": null,
      "outputs": []
    },
    {
      "cell_type": "markdown",
      "source": [
        "Thus, median of all placed percentages is 60.33%"
      ],
      "metadata": {
        "id": "PkNPs7iu6Ev5"
      }
    },
    {
      "cell_type": "markdown",
      "source": [
        "####Conclusion\n",
        "On comparing mean and median of higher secondary school percentages of placed and non placed students, it is found that students with higher percentages are more likely to get placements"
      ],
      "metadata": {
        "id": "RtKLFi2M35Xm"
      }
    },
    {
      "cell_type": "markdown",
      "source": [
        "##Q.4\n",
        "What is the distribution of the salary offers for placed students? What are the minimum, maximum, mean, and median salary values? Are there any notable patterns or outliers in the data? Perform required visualization."
      ],
      "metadata": {
        "id": "sMwWmPVx6lwt"
      }
    },
    {
      "cell_type": "markdown",
      "source": [
        "###Distribution of the salary for placed students"
      ],
      "metadata": {
        "id": "g0WSfgKuFefs"
      }
    },
    {
      "cell_type": "code",
      "source": [
        "placed_data['salary'].value_counts"
      ],
      "metadata": {
        "id": "tcodyteU6qyU"
      },
      "execution_count": null,
      "outputs": []
    },
    {
      "cell_type": "markdown",
      "source": [
        "###Minimum, maximum, mean, and median salary values"
      ],
      "metadata": {
        "id": "st3mi8mgFum7"
      }
    },
    {
      "cell_type": "code",
      "source": [
        "placed_data['salary'].min() #minimum salary"
      ],
      "metadata": {
        "id": "88RMRkVGFuHe"
      },
      "execution_count": null,
      "outputs": []
    },
    {
      "cell_type": "code",
      "source": [
        "placed_data['salary'].max() #maximum salary"
      ],
      "metadata": {
        "id": "7d1SQ1hM6rmG"
      },
      "execution_count": null,
      "outputs": []
    },
    {
      "cell_type": "code",
      "source": [
        "placed_data['salary'].mean() #mean salary"
      ],
      "metadata": {
        "id": "di7YKd4m6rjC"
      },
      "execution_count": null,
      "outputs": []
    },
    {
      "cell_type": "code",
      "source": [
        "placed_data['salary'].median() #median salary"
      ],
      "metadata": {
        "id": "b2fJeA6r6rbM"
      },
      "execution_count": null,
      "outputs": []
    },
    {
      "cell_type": "markdown",
      "source": [
        "###Vizualization"
      ],
      "metadata": {
        "id": "fuLmBXQwHm46"
      }
    },
    {
      "cell_type": "markdown",
      "source": [
        "####Boxplot\n",
        "used to identify outliers"
      ],
      "metadata": {
        "id": "lG08PilmKdSl"
      }
    },
    {
      "cell_type": "code",
      "source": [
        "sns.boxplot(data=data, x='salary',color='pink')\n",
        "plt.title('Box Plot of Salary')\n",
        "plt.show()\n"
      ],
      "metadata": {
        "id": "DyInW_WbH6a5"
      },
      "execution_count": null,
      "outputs": []
    },
    {
      "cell_type": "markdown",
      "source": [
        "From the above graph, we can see that there is only one outlier"
      ],
      "metadata": {
        "id": "WA9GtdvcKsCo"
      }
    },
    {
      "cell_type": "markdown",
      "source": [
        "####Histplot"
      ],
      "metadata": {
        "id": "a7aEEkbVKl1g"
      }
    },
    {
      "cell_type": "code",
      "source": [
        "sns.histplot(data=data, x='salary', kde=True,color='pink')\n",
        "plt.title('Distribution of Salary')\n",
        "plt.show()\n"
      ],
      "metadata": {
        "id": "MRV0g99QH-nJ"
      },
      "execution_count": null,
      "outputs": []
    },
    {
      "cell_type": "markdown",
      "source": [
        "From the graph, we cam see that at there are people who didn't get placed and have 0 salary. Most placed people have a salary in range of 200000 to 300000. Only few people get salary more than 400000."
      ],
      "metadata": {
        "id": "c6SO3CTYLm5Q"
      }
    },
    {
      "cell_type": "markdown",
      "source": [
        "##Q.5\n",
        "How can we preprocess and normalize the data? How data normalization will help you in model training and prediction?"
      ],
      "metadata": {
        "id": "tElXdMwA9ByE"
      }
    },
    {
      "cell_type": "markdown",
      "source": [
        "###Preprocessing the data"
      ],
      "metadata": {
        "id": "hpS8IDsEBCcv"
      }
    },
    {
      "cell_type": "markdown",
      "source": [
        "It is transforming, cleaning, and organizing the data to make it more efficient for further use"
      ],
      "metadata": {
        "id": "2hMCTSB8BlwF"
      }
    },
    {
      "cell_type": "markdown",
      "source": [
        "It includes the following steps:\n",
        "*   Handling missing values\n",
        "*   Dropping unecessary columns\n",
        "*   Handling duplicate\n",
        "*   Encoding categorical variable\n",
        "*   Handling outlier\n",
        "\n",
        "\n"
      ],
      "metadata": {
        "id": "bgNmv2-3Bw5q"
      }
    },
    {
      "cell_type": "markdown",
      "source": [
        "We have already done data preprocessing by identifying and handling missing and duplicate records and getting rid of any errors and inconsistencies."
      ],
      "metadata": {
        "id": "xb6JgoLx4FPR"
      }
    },
    {
      "cell_type": "markdown",
      "source": [
        "Since serial number is of no use so it should be dropped"
      ],
      "metadata": {
        "id": "NSE3L8qIXUkP"
      }
    },
    {
      "cell_type": "code",
      "source": [
        "data=data.drop(columns=['sl_no'])"
      ],
      "metadata": {
        "id": "L7p1DEoIWlec"
      },
      "execution_count": null,
      "outputs": []
    },
    {
      "cell_type": "code",
      "source": [
        "data.head()"
      ],
      "metadata": {
        "id": "w7sNuqO8Xrtx"
      },
      "execution_count": null,
      "outputs": []
    },
    {
      "cell_type": "markdown",
      "source": [
        "Preprocessing will lead to reducuction in data redundancy and optimize data structures leading to more efficient training and processing of data"
      ],
      "metadata": {
        "id": "ptjnGQjtCkrO"
      }
    },
    {
      "cell_type": "markdown",
      "source": [
        "###Normalizing the data"
      ],
      "metadata": {
        "id": "IJcw-AK9BQf-"
      }
    },
    {
      "cell_type": "markdown",
      "source": [
        "Normalization is a method used to rescale data to a standard certain range."
      ],
      "metadata": {
        "id": "PL4LsZmlDZsL"
      }
    },
    {
      "cell_type": "markdown",
      "source": [
        "It can be done by various methods:\n",
        "*   Min-Max Scaling\n",
        "*   Z-Score Standardization\n",
        "*   Decimal Scaling\n",
        "*   Logarithmic Transformatio"
      ],
      "metadata": {
        "id": "XQOJKQzCDZXW"
      }
    },
    {
      "cell_type": "markdown",
      "source": [
        "Normalization ensures that the features are on a similar scale, which helps in avoiding dominance of certain features over others during model training. It is very crucial for algorithms like k-nearest neighbors (KNN) and clustering algorithms because it enhances the performance and accuracy of machine learning models."
      ],
      "metadata": {
        "id": "zZMNX8_2DZR5"
      }
    },
    {
      "cell_type": "markdown",
      "source": [
        "#TASK-2"
      ],
      "metadata": {
        "id": "OGEvWgwsY1Ua"
      }
    },
    {
      "cell_type": "markdown",
      "source": [
        "##Data Preprocessing\n"
      ],
      "metadata": {
        "id": "YoRbVGL1ac5h"
      }
    },
    {
      "cell_type": "markdown",
      "source": [
        "We can build a model which can predict placement status of students with the help of existing numeric features provided in the data."
      ],
      "metadata": {
        "id": "ZNWogeLbbgWm"
      }
    },
    {
      "cell_type": "markdown",
      "source": [
        "Since salaries of non placed students were NaNs and placements don't depend on salaries hence we would drop salary column and other non numeric unnecessary columns. Since work experience and gender affect the placement status we would consider them"
      ],
      "metadata": {
        "id": "q-H2Gox4bgOA"
      }
    },
    {
      "cell_type": "code",
      "source": [
        "x = data[['gender','ssc_p','hsc_p','degree_p','etest_p','mba_p','workex']]"
      ],
      "metadata": {
        "id": "bKblte15Y5h7"
      },
      "execution_count": null,
      "outputs": []
    },
    {
      "cell_type": "code",
      "source": [
        "x.head()"
      ],
      "metadata": {
        "id": "LQbgQMr9Y7dV"
      },
      "execution_count": null,
      "outputs": []
    },
    {
      "cell_type": "code",
      "source": [
        "x.shape"
      ],
      "metadata": {
        "id": "1OSyO8hXY5fM"
      },
      "execution_count": null,
      "outputs": []
    },
    {
      "cell_type": "code",
      "source": [
        "y=data[['status']]"
      ],
      "metadata": {
        "id": "xc7xqPV_Y7Zu"
      },
      "execution_count": null,
      "outputs": []
    },
    {
      "cell_type": "code",
      "source": [
        "y.head()"
      ],
      "metadata": {
        "id": "vsBqtjCvsuG0"
      },
      "execution_count": null,
      "outputs": []
    },
    {
      "cell_type": "code",
      "source": [
        "y.shape"
      ],
      "metadata": {
        "id": "_BF_uhausxqc"
      },
      "execution_count": null,
      "outputs": []
    },
    {
      "cell_type": "markdown",
      "source": [
        "##Feature Engineering"
      ],
      "metadata": {
        "id": "_7-z2-d8rasG"
      }
    },
    {
      "cell_type": "markdown",
      "source": [
        "This includes feature scaling and since columns like gender and work experience(workex) are non numeric, they need to be converted to numeric datatypes so that we can train the model with their help.\n",
        "Similarly we would convert the status column to get outputs in the form of 0 or 1."
      ],
      "metadata": {
        "id": "2xZfbPeOr6dw"
      }
    },
    {
      "cell_type": "code",
      "source": [
        "from sklearn.preprocessing import LabelEncoder"
      ],
      "metadata": {
        "id": "0azadu8WjYI9"
      },
      "execution_count": null,
      "outputs": []
    },
    {
      "cell_type": "code",
      "source": [
        "encoder = LabelEncoder()"
      ],
      "metadata": {
        "id": "Pm6ndz-GkalX"
      },
      "execution_count": null,
      "outputs": []
    },
    {
      "cell_type": "code",
      "source": [
        "x['gender'] = encoder.fit_transform(x['gender'])\n",
        "#M-->1\n",
        "#F-->0"
      ],
      "metadata": {
        "id": "ZGwAI3HNkcKo"
      },
      "execution_count": null,
      "outputs": []
    },
    {
      "cell_type": "code",
      "source": [
        "x['workex'] = encoder.fit_transform(x['workex'])\n",
        "#Yes-->1\n",
        "#No-->0"
      ],
      "metadata": {
        "id": "nTWiFZ0FlK5Q"
      },
      "execution_count": null,
      "outputs": []
    },
    {
      "cell_type": "code",
      "source": [
        "x.head()"
      ],
      "metadata": {
        "id": "XerOKxUhkcHA"
      },
      "execution_count": null,
      "outputs": []
    },
    {
      "cell_type": "code",
      "source": [
        "y['status'] = encoder.fit_transform(y['status'])\n",
        "#placed-->1\n",
        "#not placed-->0"
      ],
      "metadata": {
        "id": "EPeSrGH1lHeB"
      },
      "execution_count": null,
      "outputs": []
    },
    {
      "cell_type": "code",
      "source": [
        "y.head()"
      ],
      "metadata": {
        "id": "wHYIv6LoY5eR"
      },
      "execution_count": null,
      "outputs": []
    },
    {
      "cell_type": "code",
      "source": [
        "y2=np.array(y)"
      ],
      "metadata": {
        "id": "5huXmLjS0KYf"
      },
      "execution_count": null,
      "outputs": []
    },
    {
      "cell_type": "markdown",
      "source": [
        "##Split dataset\n",
        "in train-test (80:20 ratio)\n",
        "in which we train the model using 80% of the data and predict the rest 20% with its help."
      ],
      "metadata": {
        "id": "UnykBVXNtbgX"
      }
    },
    {
      "cell_type": "code",
      "source": [
        "from sklearn.model_selection import train_test_split"
      ],
      "metadata": {
        "id": "rdPtt6LVagdg"
      },
      "execution_count": null,
      "outputs": []
    },
    {
      "cell_type": "code",
      "source": [
        "x_train, x_test, y_train, y_test = train_test_split(x, y, test_size=0.2)"
      ],
      "metadata": {
        "id": "RAR-JIY-Y5M1"
      },
      "execution_count": null,
      "outputs": []
    },
    {
      "cell_type": "markdown",
      "source": [
        "##Model selection"
      ],
      "metadata": {
        "id": "J6bT8qvttkdl"
      }
    },
    {
      "cell_type": "markdown",
      "source": [
        "We will use Logistic Regression Model(Classification) for this dataset because our output is binary(0 or1) indicating whether a student was placed or not. In campus placement dataset, the relationship between the predictors(gender,percentages in different examinations,work experience) and the placement outcome may not be linear. Logistic regression can handle non-linear relationships unlike linear regression and hence has been used here."
      ],
      "metadata": {
        "id": "wgme038ctolt"
      }
    },
    {
      "cell_type": "code",
      "source": [
        "from sklearn.linear_model import LogisticRegression"
      ],
      "metadata": {
        "id": "0_n61ltwbJ8L"
      },
      "execution_count": null,
      "outputs": []
    },
    {
      "cell_type": "code",
      "source": [
        "# creating a model\n",
        "model = LogisticRegression()"
      ],
      "metadata": {
        "id": "6KdaPBdbbJ5m"
      },
      "execution_count": null,
      "outputs": []
    },
    {
      "cell_type": "markdown",
      "source": [
        "##Model training"
      ],
      "metadata": {
        "id": "UgiaPX9Juv6r"
      }
    },
    {
      "cell_type": "markdown",
      "source": [
        "Training the model using training datasets."
      ],
      "metadata": {
        "id": "1g4g7gK74wwE"
      }
    },
    {
      "cell_type": "code",
      "source": [
        "model.fit(x_train,y_train)"
      ],
      "metadata": {
        "id": "lHCehDdLbJ3O"
      },
      "execution_count": null,
      "outputs": []
    },
    {
      "cell_type": "markdown",
      "source": [
        "##Fine-tune the Model"
      ],
      "metadata": {
        "id": "9mn5BABd1E0B"
      }
    },
    {
      "cell_type": "markdown",
      "source": [
        "To make any adjustments in the model\n",
        "Since are model's accuracy is 88% hence not many adjustments would be needed as of now"
      ],
      "metadata": {
        "id": "P8JfmwBS7sal"
      }
    },
    {
      "cell_type": "code",
      "source": [
        "model.intercept_"
      ],
      "metadata": {
        "id": "TSXbCTd2bJu4"
      },
      "execution_count": null,
      "outputs": []
    },
    {
      "cell_type": "code",
      "source": [
        "model.coef_"
      ],
      "metadata": {
        "id": "pfx9LQLfbJxh"
      },
      "execution_count": null,
      "outputs": []
    },
    {
      "cell_type": "code",
      "source": [
        "model.coef_.round(2)"
      ],
      "metadata": {
        "id": "o5i8U7QUbJr9"
      },
      "execution_count": null,
      "outputs": []
    },
    {
      "cell_type": "markdown",
      "source": [
        "##Making Predictions"
      ],
      "metadata": {
        "id": "DxaLX2Kvv5dn"
      }
    },
    {
      "cell_type": "markdown",
      "source": [
        "Making the model predict the outputs for test data using ythe training dataset"
      ],
      "metadata": {
        "id": "JCq2liuQ8NRB"
      }
    },
    {
      "cell_type": "code",
      "source": [
        "y_pred = model.predict(x_test)"
      ],
      "metadata": {
        "id": "VJJ4htT-cuWM"
      },
      "execution_count": null,
      "outputs": []
    },
    {
      "cell_type": "code",
      "source": [
        "y_pred"
      ],
      "metadata": {
        "id": "3iUOVcpdcuRp"
      },
      "execution_count": null,
      "outputs": []
    },
    {
      "cell_type": "code",
      "source": [
        "y_test"
      ],
      "metadata": {
        "id": "Wfxvk2UhcuG1"
      },
      "execution_count": null,
      "outputs": []
    },
    {
      "cell_type": "markdown",
      "source": [
        "##Model Evaluation"
      ],
      "metadata": {
        "id": "xTnHl3KNvyCE"
      }
    },
    {
      "cell_type": "markdown",
      "source": [
        "To find out the accuracy of the model"
      ],
      "metadata": {
        "id": "57WGywPL5Bge"
      }
    },
    {
      "cell_type": "code",
      "source": [
        "model.score(x_train, y_train)"
      ],
      "metadata": {
        "id": "2QLYfmjLcua5"
      },
      "execution_count": null,
      "outputs": []
    },
    {
      "cell_type": "code",
      "source": [
        "model.score(x_test, y_test) #88% accuracy"
      ],
      "metadata": {
        "id": "S-4Y1fUUcuYi"
      },
      "execution_count": null,
      "outputs": []
    },
    {
      "cell_type": "markdown",
      "source": [
        "##Scatter Plot\n",
        "of secondary school and higher secondary school percentages of placed and not placed students"
      ],
      "metadata": {
        "id": "kM3QKODL1T3x"
      }
    },
    {
      "cell_type": "code",
      "source": [
        "plt.scatter(x[['hsc_p']], x[['ssc_p']], c=y2)\n",
        "plt.show()"
      ],
      "metadata": {
        "id": "z6gWyMLPwTWu"
      },
      "execution_count": null,
      "outputs": []
    },
    {
      "cell_type": "markdown",
      "source": [
        "##Summary"
      ],
      "metadata": {
        "id": "qlqDZork2g8B"
      }
    },
    {
      "cell_type": "markdown",
      "source": [
        "In this project, we utsed a logistic regression model to predict campus placement outcomes based on the given dataset. The model achieved an accuracy of 88%, indicating that it correctly classified about 88% of the instances in the test set.\n",
        "\n",
        "\n",
        "Logistic regression was chosen as the modeling technique due to its suitability for binary classification problems like campus placement, where the outcome variable represents whether a student was placed or not.\n",
        "\n",
        "The dataset was split into training and test sets, with 80% used for training the model and 20% reserved for evaluating its performance.This process helps in optimizing the model's performance and reducing overfitting.\n",
        "\n",
        "The selected logistic regression model achieved an accuracy of 88% on the test set. This means that the model successfully predicted the placement outcome for 88% of the students correctly. The accuracy metric provides an overall assessment of the model's performance, indicating its ability to generalize to unseen data.\n",
        "\n",
        "\n",
        "Overall, this model demonstrates effectiveness in predicting campus placement outcomes based on the given dataset. Further improvements and analysis can be performed by exploring additional feature engineering techniques, alternative algorithms, or tuning the model further to achieve even better results."
      ],
      "metadata": {
        "id": "z_dHyoxA2j0I"
      }
    }
  ]
}